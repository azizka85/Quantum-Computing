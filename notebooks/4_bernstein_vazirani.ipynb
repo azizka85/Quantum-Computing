{
 "cells": [
  {
   "cell_type": "markdown",
   "metadata": {},
   "source": [
    "# Задача Бернштейна-Вазирани\n",
    "\n",
    "$$f: \\{0, 1\\}^n \\rightarrow \\{0, 1\\} $$\n",
    "\n",
    "$$\n",
    "    f(x) = s . x = s_{n-1} . x_{n-1} \\oplus ... \\oplus s_0 . x_0\n",
    "$$\n",
    "\n",
    "Требуется определить s?\n",
    "\n",
    "В классическом случае требуется: $n$ операции\n",
    "\n",
    " <center>\n",
    "    <img src=\"../images/bernstein-vazirani.png\" width=\"520\">\n",
    "</center>\n",
    "\n",
    "$U_f|x\\rangle|y\\rangle = |x\\rangle|y \\oplus f(x)\\rangle = |x\\rangle|y \\oplus (s.x)\\rangle$\n",
    "\n",
    "если $s = 0$, то $U_f|x\\rangle|y\\rangle = |x\\rangle|y\\rangle$\n",
    "\n",
    "если $s = 1$, то $U_f|x\\rangle|y\\rangle = |x\\rangle|y \\oplus x\\rangle = CX|x\\rangle|y\\rangle$"
   ]
  },
  {
   "cell_type": "code",
   "execution_count": 1,
   "metadata": {},
   "outputs": [
    {
     "data": {
      "text/html": [
       "<pre style=\"word-wrap: normal;white-space: pre;background: #fff0;line-height: 1.1;font-family: &quot;Courier New&quot;,Courier,monospace\">      ┌───┐      ░            ░ ┌───┐┌─┐      \n",
       " x_0: ┤ H ├──────░───■────────░─┤ H ├┤M├──────\n",
       "      ├───┤      ░   │        ░ ├───┤└╥┘┌─┐   \n",
       " x_1: ┤ H ├──────░───┼────────░─┤ H ├─╫─┤M├───\n",
       "      ├───┤      ░   │        ░ ├───┤ ║ └╥┘┌─┐\n",
       " x_2: ┤ H ├──────░───┼────■───░─┤ H ├─╫──╫─┤M├\n",
       "      ├───┤┌───┐ ░ ┌─┴─┐┌─┴─┐ ░ └───┘ ║  ║ └╥┘\n",
       "   y: ┤ X ├┤ H ├─░─┤ X ├┤ X ├─░───────╫──╫──╫─\n",
       "      └───┘└───┘ ░ └───┘└───┘ ░       ║  ║  ║ \n",
       "c0: 3/════════════════════════════════╩══╩══╩═\n",
       "                                      0  1  2 </pre>"
      ],
      "text/plain": [
       "      ┌───┐      ░            ░ ┌───┐┌─┐      \n",
       " x_0: ┤ H ├──────░───■────────░─┤ H ├┤M├──────\n",
       "      ├───┤      ░   │        ░ ├───┤└╥┘┌─┐   \n",
       " x_1: ┤ H ├──────░───┼────────░─┤ H ├─╫─┤M├───\n",
       "      ├───┤      ░   │        ░ ├───┤ ║ └╥┘┌─┐\n",
       " x_2: ┤ H ├──────░───┼────■───░─┤ H ├─╫──╫─┤M├\n",
       "      ├───┤┌───┐ ░ ┌─┴─┐┌─┴─┐ ░ └───┘ ║  ║ └╥┘\n",
       "   y: ┤ X ├┤ H ├─░─┤ X ├┤ X ├─░───────╫──╫──╫─\n",
       "      └───┘└───┘ ░ └───┘└───┘ ░       ║  ║  ║ \n",
       "c0: 3/════════════════════════════════╩══╩══╩═\n",
       "                                      0  1  2 "
      ]
     },
     "execution_count": 1,
     "metadata": {},
     "output_type": "execute_result"
    }
   ],
   "source": [
    "import qiskit\n",
    "import qiskit_aer\n",
    "\n",
    "s = '101'\n",
    "n = len(s)\n",
    "\n",
    "x = qiskit.QuantumRegister(n, 'x')\n",
    "y = qiskit.QuantumRegister(1, 'y')\n",
    "\n",
    "c = qiskit.ClassicalRegister(n)\n",
    "\n",
    "bv = qiskit.QuantumCircuit(x, y, c)\n",
    "\n",
    "for i in range(n):\n",
    "    bv.h(i)\n",
    "\n",
    "bv.x(n)\n",
    "bv.h(n)\n",
    "\n",
    "bv.barrier()\n",
    "\n",
    "t = s[::-1]\n",
    "\n",
    "for i in range(n):\n",
    "    if t[i] == '1':\n",
    "        bv.cx(i, n)\n",
    "\n",
    "bv.barrier()\n",
    "\n",
    "for i in range(n):\n",
    "    bv.h(i)\n",
    "\n",
    "for i in range(n):\n",
    "    bv.measure(i, i)\n",
    "\n",
    "bv.draw()"
   ]
  },
  {
   "cell_type": "code",
   "execution_count": 4,
   "metadata": {},
   "outputs": [
    {
     "data": {
      "text/plain": [
       "{'101': 1024}"
      ]
     },
     "execution_count": 4,
     "metadata": {},
     "output_type": "execute_result"
    }
   ],
   "source": [
    "simulator = qiskit_aer.AerSimulator()\n",
    "\n",
    "result = simulator.run(bv).result()\n",
    "\n",
    "counts = result.get_counts(bv)\n",
    "\n",
    "counts"
   ]
  },
  {
   "cell_type": "code",
   "execution_count": 5,
   "metadata": {},
   "outputs": [
    {
     "data": {
      "image/png": "[encoded data removed]",
      "text/plain": [
       "<Figure size 700x500 with 1 Axes>"
      ]
     },
     "execution_count": 5,
     "metadata": {},
     "output_type": "execute_result"
    }
   ],
   "source": [
    "qiskit.visualization.plot_histogram(counts)"
   ]
  }
 ],
 "metadata": {
  "kernelspec": {
   "display_name": ".venv",
   "language": "python",
   "name": "python3"
  },
  "language_info": {
   "codemirror_mode": {
    "name": "ipython",
    "version": 3
   },
   "file_extension": ".py",
   "mimetype": "text/x-python",
   "name": "python",
   "nbconvert_exporter": "python",
   "pygments_lexer": "ipython3",
   "version": "3.11.7"
  }
 },
 "nbformat": 4,
 "nbformat_minor": 2
}
