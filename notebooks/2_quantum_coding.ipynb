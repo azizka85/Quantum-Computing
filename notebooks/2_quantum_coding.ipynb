{
 "cells": [
  {
   "cell_type": "markdown",
   "metadata": {},
   "source": [
    "# Квантовое кодирование"
   ]
  },
  {
   "cell_type": "code",
   "execution_count": 22,
   "metadata": {},
   "outputs": [],
   "source": [
    "import sys\n",
    "\n",
    "sys.path.append('..')"
   ]
  },
  {
   "cell_type": "markdown",
   "metadata": {},
   "source": [
    "### 1. Оператор Адамара\n",
    "\n",
    "$$\n",
    "    H = \\frac{1}{\\sqrt{2}} \\begin{pmatrix}\n",
    "        1 & 1 \\\\\n",
    "        1 & -1 \\\\\n",
    "    \\end{pmatrix}\n",
    "$$\n",
    "\n",
    "действует на 1 кубит, который был в состоянии |0> до применения оператора Адамара"
   ]
  },
  {
   "cell_type": "code",
   "execution_count": 23,
   "metadata": {},
   "outputs": [
    {
     "data": {
      "text/html": [
       "<pre style=\"word-wrap: normal;white-space: pre;background: #fff0;line-height: 1.1;font-family: &quot;Courier New&quot;,Courier,monospace\">     ┌───┐┌─┐\n",
       "  q: ┤ H ├┤M├\n",
       "     └───┘└╥┘\n",
       "c: 1/══════╩═\n",
       "           0 </pre>"
      ],
      "text/plain": [
       "     ┌───┐┌─┐\n",
       "  q: ┤ H ├┤M├\n",
       "     └───┘└╥┘\n",
       "c: 1/══════╩═\n",
       "           0 "
      ]
     },
     "execution_count": 23,
     "metadata": {},
     "output_type": "execute_result"
    }
   ],
   "source": [
    "import qiskit\n",
    "import qiskit_aer\n",
    "\n",
    "qc = qiskit.QuantumCircuit(1, 1)\n",
    "\n",
    "qc.h(0)\n",
    "\n",
    "qc.measure(0, 0)\n",
    "\n",
    "qc.draw()"
   ]
  },
  {
   "cell_type": "code",
   "execution_count": 24,
   "metadata": {},
   "outputs": [
    {
     "data": {
      "text/plain": [
       "{'1': 524, '0': 500}"
      ]
     },
     "execution_count": 24,
     "metadata": {},
     "output_type": "execute_result"
    }
   ],
   "source": [
    "simulator = qiskit_aer.AerSimulator()\n",
    "\n",
    "result = simulator.run(qc).result()\n",
    "\n",
    "counts = result.get_counts(qc)\n",
    "\n",
    "counts"
   ]
  },
  {
   "cell_type": "code",
   "execution_count": 25,
   "metadata": {},
   "outputs": [
    {
     "data": {
      "image/png": "[encoded data removed]",
      "text/plain": [
       "<Figure size 700x500 with 1 Axes>"
      ]
     },
     "execution_count": 25,
     "metadata": {},
     "output_type": "execute_result"
    }
   ],
   "source": [
    "qiskit.visualization.plot_histogram(counts, title='Вероятности состоянии после воздействия на |0> оператором H')"
   ]
  },
  {
   "cell_type": "markdown",
   "metadata": {},
   "source": [
    "### 2. Квантовая генерация числа\n",
    "\n",
    "Берем 3 кубита, количество состоянии будет 8.\n",
    "\n",
    "Если вероятность выпавшего состояния > 0.5, то для данного стояния присваиваем классический бит 1, иначе 0.\n",
    "\n",
    "Таким образом получаем 8 битное число."
   ]
  },
  {
   "cell_type": "code",
   "execution_count": 26,
   "metadata": {},
   "outputs": [
    {
     "name": "stdout",
     "output_type": "stream",
     "text": [
      "{'111': 130, '101': 141, '110': 139, '010': 121, '100': 133, '000': 132, '001': 119, '011': 109} -> 11101100, 236\n",
      "{'001': 127, '101': 135, '110': 121, '010': 137, '000': 135, '100': 124, '011': 129, '111': 116} -> 01011010, 90\n",
      "{'011': 133, '110': 136, '101': 116, '010': 121, '100': 128, '000': 115, '111': 145, '001': 130} -> 11000011, 195\n",
      "{'100': 131, '010': 120, '110': 115, '011': 146, '000': 120, '101': 142, '111': 117, '001': 133} -> 10010101, 149\n",
      "{'100': 153, '010': 120, '111': 139, '110': 134, '101': 114, '011': 125, '001': 122, '000': 117} -> 10110000, 176\n",
      "{'100': 143, '001': 130, '011': 131, '101': 123, '110': 141, '111': 121, '010': 106, '000': 129} -> 11101001, 233\n",
      "{'110': 120, '001': 127, '100': 130, '011': 127, '111': 131, '010': 129, '101': 127, '000': 133} -> 00101101, 45\n",
      "{'011': 136, '111': 114, '001': 133, '100': 150, '110': 113, '000': 132, '101': 123, '010': 123} -> 10110100, 180\n",
      "{'011': 145, '000': 131, '010': 125, '100': 127, '110': 118, '001': 126, '101': 121, '111': 131} -> 11000001, 193\n",
      "{'011': 123, '100': 135, '110': 116, '001': 122, '000': 135, '111': 120, '101': 137, '010': 136} -> 01001011, 75\n"
     ]
    },
    {
     "data": {
      "text/html": [
       "<pre style=\"word-wrap: normal;white-space: pre;background: #fff0;line-height: 1.1;font-family: &quot;Courier New&quot;,Courier,monospace\">      ┌───┐┌─┐      \n",
       "qr_0: ┤ H ├┤M├──────\n",
       "      ├───┤└╥┘┌─┐   \n",
       "qr_1: ┤ H ├─╫─┤M├───\n",
       "      ├───┤ ║ └╥┘┌─┐\n",
       "qr_2: ┤ H ├─╫──╫─┤M├\n",
       "      └───┘ ║  ║ └╥┘\n",
       "cr: 3/══════╩══╩══╩═\n",
       "            0  1  2 </pre>"
      ],
      "text/plain": [
       "      ┌───┐┌─┐      \n",
       "qr_0: ┤ H ├┤M├──────\n",
       "      ├───┤└╥┘┌─┐   \n",
       "qr_1: ┤ H ├─╫─┤M├───\n",
       "      ├───┤ ║ └╥┘┌─┐\n",
       "qr_2: ┤ H ├─╫──╫─┤M├\n",
       "      └───┘ ║  ║ └╥┘\n",
       "cr: 3/══════╩══╩══╩═\n",
       "            0  1  2 "
      ]
     },
     "execution_count": 26,
     "metadata": {},
     "output_type": "execute_result"
    }
   ],
   "source": [
    "from modules.utils.random import qrng\n",
    "\n",
    "m = 10\n",
    "\n",
    "for _ in range(m):\n",
    "    circuit, bits, counts = qrng(3, 1024)\n",
    "    print(f'{counts} -> {bits}, {int(bits, 2)}')\n",
    "\n",
    "circuit.draw()"
   ]
  },
  {
   "cell_type": "markdown",
   "metadata": {},
   "source": [
    "### 3. Сверхплотное кодирование\n",
    "\n",
    " <center>\n",
    "    <img src=\"../images/super-dense-coding.png\" width=\"520\">\n",
    "</center>\n",
    "\n",
    "$$\n",
    "    Z = \\begin{pmatrix}\n",
    "        1 & 0 \\\\\n",
    "        0 & -1 \\\\\n",
    "    \\end{pmatrix},\n",
    "\n",
    "    X = \\begin{pmatrix}\n",
    "        0 & 1 \\\\\n",
    "        1 & 0 \\\\\n",
    "    \\end{pmatrix},\n",
    "\n",
    "    XZ = \\begin{pmatrix}\n",
    "        0 & -1 \\\\\n",
    "        1 & 0 \\\\\n",
    "    \\end{pmatrix}\n",
    "$$\n",
    "\n",
    "действуют на 1 кубит, который был в состоянии |0> до применения оператора"
   ]
  },
  {
   "cell_type": "code",
   "execution_count": 27,
   "metadata": {},
   "outputs": [
    {
     "data": {
      "text/html": [
       "<pre style=\"word-wrap: normal;white-space: pre;background: #fff0;line-height: 1.1;font-family: &quot;Courier New&quot;,Courier,monospace\">     ┌───┐     ┌───┐ ░      ┌───┐┌─┐\n",
       "q_0: ┤ H ├──■──┤ X ├─░───■──┤ H ├┤M├\n",
       "     └───┘┌─┴─┐└───┘ ░ ┌─┴─┐└┬─┬┘└╥┘\n",
       "q_1: ─────┤ X ├──────░─┤ X ├─┤M├──╫─\n",
       "          └───┘      ░ └───┘ └╥┘  ║ \n",
       "c: 2/═════════════════════════╩═══╩═\n",
       "                              1   0 </pre>"
      ],
      "text/plain": [
       "     ┌───┐     ┌───┐ ░      ┌───┐┌─┐\n",
       "q_0: ┤ H ├──■──┤ X ├─░───■──┤ H ├┤M├\n",
       "     └───┘┌─┴─┐└───┘ ░ ┌─┴─┐└┬─┬┘└╥┘\n",
       "q_1: ─────┤ X ├──────░─┤ X ├─┤M├──╫─\n",
       "          └───┘      ░ └───┘ └╥┘  ║ \n",
       "c: 2/═════════════════════════╩═══╩═\n",
       "                              1   0 "
      ]
     },
     "execution_count": 27,
     "metadata": {},
     "output_type": "execute_result"
    }
   ],
   "source": [
    "from qiskit import ClassicalRegister, QuantumCircuit, QuantumRegister\n",
    "from qiskit_aer import AerSimulator\n",
    "\n",
    "q = QuantumRegister(2, 'q')\n",
    "c = ClassicalRegister(2, 'c')\n",
    "\n",
    "superdense = QuantumCircuit(q, c, name='superdense')\n",
    "\n",
    "superdense.h(q[0])\n",
    "superdense.cx(q[0], q[1])\n",
    "\n",
    "# Алиса хочет отправить 00, тогда ничего не делаем\n",
    "\n",
    "# Алиса хочет отправить 01, тогда применяем оператор Z на первый кубит\n",
    "# superdense.z(q[0])\n",
    "\n",
    "# Алиса хочет отправить 10, тогда применяем оператор X на первый кубит\n",
    "# superdense.x(q[0])\n",
    "\n",
    "# Алиса хочет отправить 11, тогда применяем оператор XZ на первый кубит\n",
    "superdense.z(q[0])\n",
    "superdense.x(q[0])\n",
    "\n",
    "superdense.barrier()\n",
    "\n",
    "# Боб\n",
    "superdense.cx(q[0], q[1])\n",
    "superdense.h(q[0])\n",
    "\n",
    "superdense.measure(q[0], c[0])\n",
    "superdense.measure(q[1], c[1])\n",
    "\n",
    "superdense.draw()"
   ]
  },
  {
   "cell_type": "code",
   "execution_count": 28,
   "metadata": {},
   "outputs": [
    {
     "data": {
      "text/plain": [
       "{'10': 1024}"
      ]
     },
     "execution_count": 28,
     "metadata": {},
     "output_type": "execute_result"
    }
   ],
   "source": [
    "simulator = AerSimulator()\n",
    "\n",
    "result = simulator.run([superdense]).result()\n",
    "counts = result.get_counts('superdense')\n",
    "\n",
    "counts"
   ]
  }
 ],
 "metadata": {
  "kernelspec": {
   "display_name": ".venv",
   "language": "python",
   "name": "python3"
  },
  "language_info": {
   "codemirror_mode": {
    "name": "ipython",
    "version": 3
   },
   "file_extension": ".py",
   "mimetype": "text/x-python",
   "name": "python",
   "nbconvert_exporter": "python",
   "pygments_lexer": "ipython3",
   "version": "3.11.7"
  }
 },
 "nbformat": 4,
 "nbformat_minor": 2
}
