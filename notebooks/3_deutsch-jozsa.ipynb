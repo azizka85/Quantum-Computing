{
 "cells": [
  {
   "cell_type": "markdown",
   "metadata": {},
   "source": [
    "# Задача Дойча-Джозы\n",
    "\n",
    "$$f: \\{0, 1\\}^n \\rightarrow \\{0, 1\\} $$\n",
    "\n",
    "$$\n",
    "    f(x) = \\left[\n",
    "        \\begin{array}{c}\n",
    "            \\text{const} \\\\\n",
    "            \\text{|x: f(x) = 0| = |x: f(x) = 1|}\n",
    "        \\end{array}\n",
    "    \\right.\n",
    "$$\n",
    "\n",
    "Требуется определить является ли f(x) = const?\n",
    "\n",
    "В классическом случае требуется: $2^{n-1} + 1$ операции\n",
    "\n",
    " <center>\n",
    "    <img src=\"../images/deutsch-jozsa.png\" width=\"520\">\n",
    "</center>"
   ]
  },
  {
   "cell_type": "markdown",
   "metadata": {},
   "source": [
    "### Пример №1\n",
    "\n",
    "$x$ состоит из 2-х кубитов"
   ]
  },
  {
   "cell_type": "code",
   "execution_count": 4,
   "metadata": {},
   "outputs": [
    {
     "data": {
      "text/html": [
       "<pre style=\"word-wrap: normal;white-space: pre;background: #fff0;line-height: 1.1;font-family: &quot;Courier New&quot;,Courier,monospace\">      ┌───┐                     ░ ┌───┐┌─┐   \n",
       " x_0: ┤ H ├───────■─────────────░─┤ H ├┤M├───\n",
       "      ├───┤       │             ░ ├───┤└╥┘┌─┐\n",
       " x_1: ┤ H ├───────┼────■────────░─┤ H ├─╫─┤M├\n",
       "      ├───┤┌───┐┌─┴─┐┌─┴─┐┌───┐ ░ └───┘ ║ └╥┘\n",
       "   y: ┤ X ├┤ H ├┤ X ├┤ X ├┤ H ├─░───────╫──╫─\n",
       "      └───┘└───┘└───┘└───┘└───┘ ░       ║  ║ \n",
       "c1: 2/══════════════════════════════════╩══╩═\n",
       "                                        0  1 </pre>"
      ],
      "text/plain": [
       "      ┌───┐                     ░ ┌───┐┌─┐   \n",
       " x_0: ┤ H ├───────■─────────────░─┤ H ├┤M├───\n",
       "      ├───┤       │             ░ ├───┤└╥┘┌─┐\n",
       " x_1: ┤ H ├───────┼────■────────░─┤ H ├─╫─┤M├\n",
       "      ├───┤┌───┐┌─┴─┐┌─┴─┐┌───┐ ░ └───┘ ║ └╥┘\n",
       "   y: ┤ X ├┤ H ├┤ X ├┤ X ├┤ H ├─░───────╫──╫─\n",
       "      └───┘└───┘└───┘└───┘└───┘ ░       ║  ║ \n",
       "c1: 2/══════════════════════════════════╩══╩═\n",
       "                                        0  1 "
      ]
     },
     "metadata": {},
     "output_type": "display_data"
    }
   ],
   "source": [
    "import qiskit\n",
    "import qiskit_aer\n",
    "\n",
    "qin = qiskit.QuantumRegister(2, 'x')\n",
    "qout = qiskit.QuantumRegister(1, 'y')\n",
    "\n",
    "c = qiskit.ClassicalRegister(2)\n",
    "\n",
    "qc = qiskit.QuantumCircuit(qin, qout, c)\n",
    "\n",
    "def balanced2(circ, input, output):\n",
    "    circ.cx(input[0], output)\n",
    "    circ.cx(input[1], output)\n",
    "\n",
    "def constant2(circ, input, output):\n",
    "    pass\n",
    "\n",
    "qc.h(qin)\n",
    "qc.x(qout)\n",
    "qc.h(qout)\n",
    "\n",
    "# constant2(qc, qin, qout)\n",
    "balanced2(qc, qin, qout)\n",
    "\n",
    "qc.h(qout)\n",
    "qc.barrier()\n",
    "\n",
    "qc.h(qin)\n",
    "\n",
    "qc.measure(qin, c)\n",
    "\n",
    "display(qc.draw())"
   ]
  },
  {
   "cell_type": "code",
   "execution_count": 5,
   "metadata": {},
   "outputs": [
    {
     "data": {
      "text/plain": [
       "{'11': 1024}"
      ]
     },
     "execution_count": 5,
     "metadata": {},
     "output_type": "execute_result"
    }
   ],
   "source": [
    "simulator = qiskit_aer.AerSimulator()\n",
    "\n",
    "result = simulator.run(qc).result()\n",
    "\n",
    "counts = result.get_counts(qc)\n",
    "\n",
    "counts"
   ]
  },
  {
   "cell_type": "code",
   "execution_count": 6,
   "metadata": {},
   "outputs": [
    {
     "data": {
      "image/png": "[encoded data removed]",
      "text/plain": [
       "<Figure size 700x500 with 1 Axes>"
      ]
     },
     "execution_count": 6,
     "metadata": {},
     "output_type": "execute_result"
    }
   ],
   "source": [
    "qiskit.visualization.plot_histogram(counts)"
   ]
  },
  {
   "cell_type": "markdown",
   "metadata": {},
   "source": [
    "### Пример №2\n",
    "\n",
    "$x$ состоит из 3-х кубитов"
   ]
  },
  {
   "cell_type": "code",
   "execution_count": 11,
   "metadata": {},
   "outputs": [
    {
     "data": {
      "text/html": [
       "<pre style=\"word-wrap: normal;white-space: pre;background: #fff0;line-height: 1.1;font-family: &quot;Courier New&quot;,Courier,monospace\">      ┌───┐                          ░ ┌───┐┌─┐      \n",
       " x_0: ┤ H ├───────■──────────────────░─┤ H ├┤M├──────\n",
       "      ├───┤       │                  ░ ├───┤└╥┘┌─┐   \n",
       " x_1: ┤ H ├───────┼────■─────────────░─┤ H ├─╫─┤M├───\n",
       "      ├───┤       │    │             ░ ├───┤ ║ └╥┘┌─┐\n",
       " x_2: ┤ H ├───────┼────┼────■────────░─┤ H ├─╫──╫─┤M├\n",
       "      ├───┤┌───┐┌─┴─┐┌─┴─┐┌─┴─┐┌───┐ ░ └───┘ ║  ║ └╥┘\n",
       "   y: ┤ X ├┤ H ├┤ X ├┤ X ├┤ X ├┤ H ├─░───────╫──╫──╫─\n",
       "      └───┘└───┘└───┘└───┘└───┘└───┘ ░       ║  ║  ║ \n",
       "c4: 3/═══════════════════════════════════════╩══╩══╩═\n",
       "                                             0  1  2 </pre>"
      ],
      "text/plain": [
       "      ┌───┐                          ░ ┌───┐┌─┐      \n",
       " x_0: ┤ H ├───────■──────────────────░─┤ H ├┤M├──────\n",
       "      ├───┤       │                  ░ ├───┤└╥┘┌─┐   \n",
       " x_1: ┤ H ├───────┼────■─────────────░─┤ H ├─╫─┤M├───\n",
       "      ├───┤       │    │             ░ ├───┤ ║ └╥┘┌─┐\n",
       " x_2: ┤ H ├───────┼────┼────■────────░─┤ H ├─╫──╫─┤M├\n",
       "      ├───┤┌───┐┌─┴─┐┌─┴─┐┌─┴─┐┌───┐ ░ └───┘ ║  ║ └╥┘\n",
       "   y: ┤ X ├┤ H ├┤ X ├┤ X ├┤ X ├┤ H ├─░───────╫──╫──╫─\n",
       "      └───┘└───┘└───┘└───┘└───┘└───┘ ░       ║  ║  ║ \n",
       "c4: 3/═══════════════════════════════════════╩══╩══╩═\n",
       "                                             0  1  2 "
      ]
     },
     "metadata": {},
     "output_type": "display_data"
    }
   ],
   "source": [
    "import qiskit\n",
    "import qiskit_aer\n",
    "\n",
    "qin = qiskit.QuantumRegister(3, 'x')\n",
    "qout = qiskit.QuantumRegister(1, 'y')\n",
    "\n",
    "c = qiskit.ClassicalRegister(3)\n",
    "\n",
    "qc = qiskit.QuantumCircuit(qin, qout, c)\n",
    "\n",
    "def balanced3(circ, input, output):\n",
    "    circ.cx(input[0], output)\n",
    "    circ.cx(input[1], output)\n",
    "    circ.cx(input[2], output)\n",
    "\n",
    "def constant3(circ, input, output):\n",
    "    pass\n",
    "\n",
    "qc.h(qin)\n",
    "qc.x(qout)\n",
    "qc.h(qout)\n",
    "\n",
    "# constant3(qc, qin, qout)\n",
    "balanced3(qc, qin, qout)\n",
    "\n",
    "qc.h(qout)\n",
    "qc.barrier()\n",
    "\n",
    "qc.h(qin)\n",
    "\n",
    "qc.measure(qin, c)\n",
    "\n",
    "display(qc.draw())"
   ]
  },
  {
   "cell_type": "code",
   "execution_count": 12,
   "metadata": {},
   "outputs": [
    {
     "data": {
      "text/plain": [
       "{'111': 1024}"
      ]
     },
     "execution_count": 12,
     "metadata": {},
     "output_type": "execute_result"
    }
   ],
   "source": [
    "simulator = qiskit_aer.AerSimulator()\n",
    "\n",
    "result = simulator.run(qc).result()\n",
    "\n",
    "counts = result.get_counts(qc)\n",
    "\n",
    "counts"
   ]
  },
  {
   "cell_type": "code",
   "execution_count": 13,
   "metadata": {},
   "outputs": [
    {
     "data": {
      "image/png": "[encoded data removed]",
      "text/plain": [
       "<Figure size 700x500 with 1 Axes>"
      ]
     },
     "execution_count": 13,
     "metadata": {},
     "output_type": "execute_result"
    }
   ],
   "source": [
    "qiskit.visualization.plot_histogram(counts)"
   ]
  }
 ],
 "metadata": {
  "kernelspec": {
   "display_name": ".venv",
   "language": "python",
   "name": "python3"
  },
  "language_info": {
   "codemirror_mode": {
    "name": "ipython",
    "version": 3
   },
   "file_extension": ".py",
   "mimetype": "text/x-python",
   "name": "python",
   "nbconvert_exporter": "python",
   "pygments_lexer": "ipython3",
   "version": "3.11.7"
  }
 },
 "nbformat": 4,
 "nbformat_minor": 2
}
