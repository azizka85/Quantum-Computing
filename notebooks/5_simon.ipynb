{
 "cells": [
  {
   "cell_type": "markdown",
   "metadata": {},
   "source": [
    "# Задача Саймона\n",
    "\n",
    "$$f: \\{0, 1\\}^n \\rightarrow \\{0, 1\\}^n $$\n",
    "\n",
    "$$\n",
    "    \\exists! b: f(x) = f(y) \\Leftrightarrow x = y \\oplus b\n",
    "$$\n",
    "\n",
    "Требуется определить b?\n",
    "\n",
    "В классическом случае требуется: $2^{\\frac{n}{2}}$ операции\n",
    "\n",
    " <center>\n",
    "    <img src=\"../images/simon.png\" width=\"520\">\n",
    "</center>"
   ]
  },
  {
   "cell_type": "code",
   "execution_count": 33,
   "metadata": {},
   "outputs": [
    {
     "data": {
      "text/html": [
       "<pre style=\"word-wrap: normal;white-space: pre;background: #fff0;line-height: 1.1;font-family: &quot;Courier New&quot;,Courier,monospace\">      ┌───┐ ░                 ░ ┌───┐┌─┐   \n",
       " x_0: ┤ H ├─░───■─────────────░─┤ H ├┤M├───\n",
       "      ├───┤ ░   │             ░ ├───┤└╥┘┌─┐\n",
       " x_1: ┤ H ├─░───┼────■────■───░─┤ H ├─╫─┤M├\n",
       "      └───┘ ░ ┌─┴─┐  │    │   ░ └───┘ ║ └╥┘\n",
       " y_0: ──────░─┤ X ├──┼────┼───░───────╫──╫─\n",
       "            ░ └───┘┌─┴─┐┌─┴─┐ ░       ║  ║ \n",
       " y_1: ──────░──────┤ X ├┤ X ├─░───────╫──╫─\n",
       "            ░      └───┘└───┘ ░       ║  ║ \n",
       "c8: 2/════════════════════════════════╩══╩═\n",
       "                                      0  1 </pre>"
      ],
      "text/plain": [
       "      ┌───┐ ░                 ░ ┌───┐┌─┐   \n",
       " x_0: ┤ H ├─░───■─────────────░─┤ H ├┤M├───\n",
       "      ├───┤ ░   │             ░ ├───┤└╥┘┌─┐\n",
       " x_1: ┤ H ├─░───┼────■────■───░─┤ H ├─╫─┤M├\n",
       "      └───┘ ░ ┌─┴─┐  │    │   ░ └───┘ ║ └╥┘\n",
       " y_0: ──────░─┤ X ├──┼────┼───░───────╫──╫─\n",
       "            ░ └───┘┌─┴─┐┌─┴─┐ ░       ║  ║ \n",
       " y_1: ──────░──────┤ X ├┤ X ├─░───────╫──╫─\n",
       "            ░      └───┘└───┘ ░       ║  ║ \n",
       "c8: 2/════════════════════════════════╩══╩═\n",
       "                                      0  1 "
      ]
     },
     "execution_count": 33,
     "metadata": {},
     "output_type": "execute_result"
    }
   ],
   "source": [
    "import sys\n",
    "\n",
    "sys.path.append('..')\n",
    "\n",
    "import qiskit\n",
    "import qiskit_aer\n",
    "\n",
    "b = '10'\n",
    "n = len(b)\n",
    "\n",
    "x = qiskit.QuantumRegister(n, 'x')\n",
    "y = qiskit.QuantumRegister(n, 'y')\n",
    "\n",
    "c = qiskit.ClassicalRegister(n)\n",
    "\n",
    "qc = qiskit.QuantumCircuit(x, y, c)\n",
    "\n",
    "qc.h(x)\n",
    "\n",
    "qc.barrier()\n",
    "\n",
    "# Simon oracle\n",
    "if '1' in b:\n",
    "    t = b[::-1]\n",
    "    j = t.find('1')\n",
    "\n",
    "    for i in range(n):\n",
    "        qc.cx(i, i + n)\n",
    "\n",
    "    for i in range(n):\n",
    "        if t[i] == '1':\n",
    "            qc.cx(j, i + n)        \n",
    "\n",
    "\n",
    "qc.barrier()\n",
    "\n",
    "qc.h(x)\n",
    "\n",
    "qc.measure(x, c)\n",
    "\n",
    "qc.draw()"
   ]
  },
  {
   "cell_type": "code",
   "execution_count": 34,
   "metadata": {},
   "outputs": [
    {
     "data": {
      "text/plain": [
       "{'00': 533, '01': 491}"
      ]
     },
     "execution_count": 34,
     "metadata": {},
     "output_type": "execute_result"
    }
   ],
   "source": [
    "simulator = qiskit_aer.AerSimulator()\n",
    "\n",
    "result = simulator.run(qc).result()\n",
    "\n",
    "counts = result.get_counts(qc)\n",
    "\n",
    "counts"
   ]
  },
  {
   "cell_type": "code",
   "execution_count": 35,
   "metadata": {},
   "outputs": [
    {
     "data": {
      "image/png": "[encoded data removed]",
      "text/plain": [
       "<Figure size 700x500 with 1 Axes>"
      ]
     },
     "execution_count": 35,
     "metadata": {},
     "output_type": "execute_result"
    }
   ],
   "source": [
    "qiskit.visualization.plot_histogram(counts)"
   ]
  },
  {
   "cell_type": "code",
   "execution_count": 36,
   "metadata": {},
   "outputs": [
    {
     "name": "stdout",
     "output_type": "stream",
     "text": [
      "(b . 00) % 2 = 0\n",
      "(b . 01) % 2 = 0\n"
     ]
    }
   ],
   "source": [
    "from modules.utils.vector import dot_prod\n",
    "\n",
    "for code in counts:\n",
    "    print(f'(b . {code}) % 2 = {dot_prod(b, code) % 2}')"
   ]
  },
  {
   "cell_type": "markdown",
   "metadata": {},
   "source": [
    "$ b_1 \\cdot 0 + b_0 \\cdot 1 = b_0 = 0$\n",
    "\n",
    "Мы имеем либо $b = 10$ либо $b = 00$\n",
    "\n",
    "$b = 10$ является нетривиальным решением"
   ]
  }
 ],
 "metadata": {
  "kernelspec": {
   "display_name": ".venv",
   "language": "python",
   "name": "python3"
  },
  "language_info": {
   "codemirror_mode": {
    "name": "ipython",
    "version": 3
   },
   "file_extension": ".py",
   "mimetype": "text/x-python",
   "name": "python",
   "nbconvert_exporter": "python",
   "pygments_lexer": "ipython3",
   "version": "3.11.7"
  }
 },
 "nbformat": 4,
 "nbformat_minor": 2
}
